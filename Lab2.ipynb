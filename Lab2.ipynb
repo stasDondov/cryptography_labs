{
 "cells": [
  {
   "cell_type": "markdown",
   "id": "convertible-prototype",
   "metadata": {},
   "source": [
    "# Лабораторна робота 2"
   ]
  },
  {
   "cell_type": "markdown",
   "id": "protective-challenge",
   "metadata": {},
   "source": [
    "**Завдання 1.** Реалiзуйте криптосистеми AES-128, AES-192 i AES-256, включаючи раундовi функцiї та їх оберненi, алгоритми розподiлу ключiв, шифрування та дешифрування."
   ]
  },
  {
   "cell_type": "code",
   "execution_count": 1,
   "id": "secure-concentrate",
   "metadata": {},
   "outputs": [],
   "source": [
    "Sbox = [\n",
    "    [0x63, 0x7C, 0x77, 0x7B, 0xF2, 0x6B, 0x6F, 0xC5, 0x30, 0x01, 0x67, 0x2B, 0xFE, 0xD7, 0xAB, 0x76],\n",
    "    [0xCA, 0x82, 0xC9, 0x7D, 0xFA, 0x59, 0x47, 0xF0, 0xAD, 0xD4, 0xA2, 0xAF, 0x9C, 0xA4, 0x72, 0xC0],\n",
    "    [0xB7, 0xFD, 0x93, 0x26, 0x36, 0x3F, 0xF7, 0xCC, 0x34, 0xA5, 0xE5, 0xF1, 0x71, 0xD8, 0x31, 0x15],\n",
    "    [0x04, 0xC7, 0x23, 0xC3, 0x18, 0x96, 0x05, 0x9A, 0x07, 0x12, 0x80, 0xE2, 0xEB, 0x27, 0xB2, 0x75],\n",
    "    [0x09, 0x83, 0x2C, 0x1A, 0x1B, 0x6E, 0x5A, 0xA0, 0x52, 0x3B, 0xD6, 0xB3, 0x29, 0xE3, 0x2F, 0x84],\n",
    "    [0x53, 0xD1, 0x00, 0xED, 0x20, 0xFC, 0xB1, 0x5B, 0x6A, 0xCB, 0xBE, 0x39, 0x4A, 0x4C, 0x58, 0xCF],\n",
    "    [0xD0, 0xEF, 0xAA, 0xFB, 0x43, 0x4D, 0x33, 0x85, 0x45, 0xF9, 0x02, 0x7F, 0x50, 0x3C, 0x9F, 0xA8],\n",
    "    [0x51, 0xA3, 0x40, 0x8F, 0x92, 0x9D, 0x38, 0xF5, 0xBC, 0xB6, 0xDA, 0x21, 0x10, 0xFF, 0xF3, 0xD2],\n",
    "    [0xCD, 0x0C, 0x13, 0xEC, 0x5F, 0x97, 0x44, 0x17, 0xC4, 0xA7, 0x7E, 0x3D, 0x64, 0x5D, 0x19, 0x73],\n",
    "    [0x60, 0x81, 0x4F, 0xDC, 0x22, 0x2A, 0x90, 0x88, 0x46, 0xEE, 0xB8, 0x14, 0xDE, 0x5E, 0x0B, 0xDB],\n",
    "    [0xE0, 0x32, 0x3A, 0x0A, 0x49, 0x06, 0x24, 0x5C, 0xC2, 0xD3, 0xAC, 0x62, 0x91, 0x95, 0xE4, 0x79],\n",
    "    [0xE7, 0xC8, 0x37, 0x6D, 0x8D, 0xD5, 0x4E, 0xA9, 0x6C, 0x56, 0xF4, 0xEA, 0x65, 0x7A, 0xAE, 0x08],\n",
    "    [0xBA, 0x78, 0x25, 0x2E, 0x1C, 0xA6, 0xB4, 0xC6, 0xE8, 0xDD, 0x74, 0x1F, 0x4B, 0xBD, 0x8B, 0x8A],\n",
    "    [0x70, 0x3E, 0xB5, 0x66, 0x48, 0x03, 0xF6, 0x0E, 0x61, 0x35, 0x57, 0xB9, 0x86, 0xC1, 0x1D, 0x9E],\n",
    "    [0xE1, 0xF8, 0x98, 0x11, 0x69, 0xD9, 0x8E, 0x94, 0x9B, 0x1E, 0x87, 0xE9, 0xCE, 0x55, 0x28, 0xDF],\n",
    "    [0x8C, 0xA1, 0x89, 0x0D, 0xBF, 0xE6, 0x42, 0x68, 0x41, 0x99, 0x2D, 0x0F, 0xB0, 0x54, 0xBB, 0x16]\n",
    "]\n",
    "\n",
    "invSbox = [\n",
    "    [0x52, 0x09, 0x6A, 0xD5, 0x30, 0x36, 0xA5, 0x38, 0xBF, 0x40, 0xA3, 0x9E, 0x81, 0xF3, 0xD7, 0xFB],\n",
    "    [0x7C, 0xE3, 0x39, 0x82, 0x9B, 0x2F, 0xFF, 0x87, 0x34, 0x8E, 0x43, 0x44, 0xC4, 0xDE, 0xE9, 0xCB],\n",
    "    [0x54, 0x7B, 0x94, 0x32, 0xA6, 0xC2, 0x23, 0x3D, 0xEE, 0x4C, 0x95, 0x0B, 0x42, 0xFA, 0xC3, 0x4E],\n",
    "    [0x08, 0x2E, 0xA1, 0x66, 0x28, 0xD9, 0x24, 0xB2, 0x76, 0x5B, 0xA2, 0x49, 0x6D, 0x8B, 0xD1, 0x25],\n",
    "    [0x72, 0xF8, 0xF6, 0x64, 0x86, 0x68, 0x98, 0x16, 0xD4, 0xA4, 0x5C, 0xCC, 0x5D, 0x65, 0xB6, 0x92],\n",
    "    [0x6C, 0x70, 0x48, 0x50, 0xFD, 0xED, 0xB9, 0xDA, 0x5E, 0x15, 0x46, 0x57, 0xA7, 0x8D, 0x9D, 0x84],\n",
    "    [0x90, 0xD8, 0xAB, 0x00, 0x8C, 0xBC, 0xD3, 0x0A, 0xF7, 0xE4, 0x58, 0x05, 0xB8, 0xB3, 0x45, 0x06],\n",
    "    [0xD0, 0x2C, 0x1E, 0x8F, 0xCA, 0x3F, 0x0F, 0x02, 0xC1, 0xAF, 0xBD, 0x03, 0x01, 0x13, 0x8A, 0x6B],\n",
    "    [0x3A, 0x91, 0x11, 0x41, 0x4F, 0x67, 0xDC, 0xEA, 0x97, 0xF2, 0xCF, 0xCE, 0xF0, 0xB4, 0xE6, 0x73],\n",
    "    [0x96, 0xAC, 0x74, 0x22, 0xE7, 0xAD, 0x35, 0x85, 0xE2, 0xF9, 0x37, 0xE8, 0x1C, 0x75, 0xDF, 0x6E],\n",
    "    [0x47, 0xF1, 0x1A, 0x71, 0x1D, 0x29, 0xC5, 0x89, 0x6F, 0xB7, 0x62, 0x0E, 0xAA, 0x18, 0xBE, 0x1B],\n",
    "    [0xFC, 0x56, 0x3E, 0x4B, 0xC6, 0xD2, 0x79, 0x20, 0x9A, 0xDB, 0xC0, 0xFE, 0x78, 0xCD, 0x5A, 0xF4],\n",
    "    [0x1F, 0xDD, 0xA8, 0x33, 0x88, 0x07, 0xC7, 0x31, 0xB1, 0x12, 0x10, 0x59, 0x27, 0x80, 0xEC, 0x5F],\n",
    "    [0x60, 0x51, 0x7F, 0xA9, 0x19, 0xB5, 0x4A, 0x0D, 0x2D, 0xE5, 0x7A, 0x9F, 0x93, 0xC9, 0x9C, 0xEF],\n",
    "    [0xA0, 0xE0, 0x3B, 0x4D, 0xAE, 0x2A, 0xF5, 0xB0, 0xC8, 0xEB, 0xBB, 0x3C, 0x83, 0x53, 0x99, 0x61],\n",
    "    [0x17, 0x2B, 0x04, 0x7E, 0xBA, 0x77, 0xD6, 0x26, 0xE1, 0x69, 0x14, 0x63, 0x55, 0x21, 0x0C, 0x7D]\n",
    "]\n",
    "\n",
    "\n",
    "Rcon = [[0x01, 0x02, 0x04, 0x08, 0x10, 0x20, 0x40, 0x80, 0x1b, 0x36],\n",
    "        [0x00, 0x00, 0x00, 0x00, 0x00, 0x00, 0x00, 0x00, 0x00, 0x00],\n",
    "        [0x00, 0x00, 0x00, 0x00, 0x00, 0x00, 0x00, 0x00, 0x00, 0x00],\n",
    "        [0x00, 0x00, 0x00, 0x00, 0x00, 0x00, 0x00, 0x00, 0x00, 0x00]\n",
    "]\n",
    "\n",
    "\n",
    "def mul_by_02(num):\n",
    "    \"\"\"The function multiplies by 2 in Galua space\"\"\"    \n",
    "    if num < 0x80:\n",
    "        res = (num << 1)\n",
    "    else:\n",
    "        res = (num << 1) ^ 0x1B\n",
    "    return res % 0x100\n",
    "\n",
    "\n",
    "def mul_by_03(num):\n",
    "    \"\"\"The function multiplies by 3 in Galua space\n",
    "    example: 0x03*num = (0x02 + 0x01)num = num*0x02 + num\n",
    "    Addition in Galua field is operation XOR\n",
    "    \"\"\"\n",
    "    return (mul_by_02(num) ^ num)\n",
    "\n",
    "\n",
    "def mul_by_09(num):\n",
    "    # mul_by_03(num)^mul_by_03(num)^mul_by_03(num) \n",
    "    return mul_by_02(mul_by_02(mul_by_02(num))) ^ num\n",
    "\n",
    "\n",
    "def mul_by_0b(num):\n",
    "    # mul_by_09(num)^mul_by_02(num)\n",
    "    return mul_by_02(mul_by_02(mul_by_02(num))) ^ mul_by_02(num) ^ num\n",
    "\n",
    "\n",
    "def mul_by_0d(num):\n",
    "    # mul_by_0b(num)^mul_by_02(num)\n",
    "    return mul_by_02(mul_by_02(mul_by_02(num))) ^ mul_by_02(mul_by_02(num)) ^ num\n",
    "\n",
    "\n",
    "def mul_by_0e(num):\n",
    "    # mul_by_0d(num)^num\n",
    "    return mul_by_02(mul_by_02(mul_by_02(num))) ^ mul_by_02(mul_by_02(num)) ^ mul_by_02(num)\n"
   ]
  },
  {
   "cell_type": "code",
   "execution_count": 2,
   "id": "reverse-optimization",
   "metadata": {},
   "outputs": [],
   "source": [
    "# Nb - number of columns\n",
    "# Nk - number of 32-bit words comprising the Cipher Key\n",
    "# Nr - number of rounds\n",
    "\n",
    "\n",
    "class AES():    \n",
    "    def __init__(self, aes_type):\n",
    "        aes_dict = {\n",
    "            128: [4, 4, 10],\n",
    "            192: [6, 4, 12],\n",
    "            256: [8, 4, 14]\n",
    "        }\n",
    "        self.Nk = aes_dict[aes_type][0]\n",
    "        self.Nb = aes_dict[aes_type][1]\n",
    "        self.Nr = aes_dict[aes_type][2]\n",
    "        self.State = None  # матриця станів\n",
    "        self.key_schedule = None  # матриця ключів\n",
    "        \n",
    "    \n",
    "    def encrypt(self, plaintext, key):        \n",
    "        self.State = None \n",
    "        self.key_schedule = None  \n",
    "        \n",
    "        # перевіримо, чи відповідає довжина ключа зазначеному типу \n",
    "        if len(key) != 4 * self.Nk:\n",
    "            raise AssertionError(\"неправильна довжина ключа!!!\")\n",
    "        \n",
    "        # якщо довжина відкритого тексту не кратна необхідному значенню, то доповнюємо її \n",
    "        for i in range(len(plaintext) % (4 * self.Nb)):\n",
    "            plaintext.append(0x01)\n",
    "        \n",
    "        return self.Cipher(plaintext, key)\n",
    "        \n",
    "    \n",
    "    def decrypt(self, ciphertext, key):\n",
    "        self.State = None \n",
    "        self.key_schedule = None  \n",
    "        \n",
    "        # перевіримо, чи відповідає довжина ключа зазначеному типу \n",
    "        if len(key) != 4 * self.Nk:\n",
    "            raise AssertionError(\"неправильна довжина ключа!!!\")\n",
    "        \n",
    "        # якщо довжина криптотексту не кратна необхідному значенню, то доповнюємо її \n",
    "        for i in range(len(ciphertext) % (4 * self.Nb)):\n",
    "            cipher.append(0x01)\n",
    "        \n",
    "        return self.InvCipher(ciphertext, key)\n",
    "        \n",
    "        \n",
    "    def init_state(self, input_bytes):\n",
    "        self.State = [[] for j in range(self.Nb)]\n",
    "        for r in range(4):\n",
    "            for c in range(self.Nb):\n",
    "                self.State[r].append(input_bytes[r + 4 * c])\n",
    "        \n",
    "    \n",
    "     \n",
    "    def Cipher(self, input_bytes, key):\n",
    "        self.init_state(input_bytes)\n",
    "        self.KeyExpansion(key)\n",
    "        \n",
    "        self.AddRoundKey()\n",
    "\n",
    "        for rnd in range(1, self.Nr):\n",
    "            self.SubBytes()\n",
    "            self.ShiftRows()\n",
    "            self.MixColumns()\n",
    "            self.AddRoundKey(rnd)\n",
    "\n",
    "        self.SubBytes()\n",
    "        self.ShiftRows()\n",
    "        self.AddRoundKey(rnd+1)\n",
    "\n",
    "        output_bytes = [None for i in range(4 * self.Nb)]\n",
    "        for r in range(4):\n",
    "            for c in range(self.Nb):\n",
    "                output_bytes[r + 4 * c] = self.State[r][c]\n",
    "        return output_bytes\n",
    "    \n",
    "        \n",
    "    \n",
    "    def AddRoundKey(self, rnd=0):\n",
    "        for col in range(4):  \n",
    "            for i in range(4):\n",
    "                self.State[i][col] ^= self.key_schedule[i][self.Nb * rnd + col]\n",
    "                \n",
    "                \n",
    "    \n",
    "    \n",
    "    def KeyExpansion(self, key):        \n",
    "        \"\"\" Робить список раундових ключів для  функції AddRoundKey. \"\"\"\n",
    "\n",
    "        self.key_schedule = [[] for i in range(4)]\n",
    "        for r in range(4):\n",
    "            for c in range(self.Nk):\n",
    "                self.key_schedule[r].append(key[r + 4 * c])\n",
    "\n",
    "        for col in range(self.Nk, self.Nb * (self.Nr + 1)):  # col = column number\n",
    "            if col % self.Nk == 0:\n",
    "\n",
    "                #tmp = self.RotWord(key_schedule, col)\n",
    "                tmp = [self.key_schedule[row][col - 1] for row in range(1, 4)]\n",
    "                tmp.append(self.key_schedule[0][col - 1])\n",
    "\n",
    "                for j in range(len(tmp)):\n",
    "                    tmp[j] = self.SubWord(tmp[j])\n",
    "\n",
    "                # make XOR of 3 columns\n",
    "                for row in range(4):\n",
    "                    s = (self.key_schedule[row][col - 4]) ^ (tmp[row]) ^ (Rcon[row][int(col / self.Nk - 1)])\n",
    "                    self.key_schedule[row].append(s)\n",
    "\n",
    "            else:\n",
    "                # make XOR of 2 columns\n",
    "                for row in range(4):\n",
    "                    s = self.key_schedule[row][col - 4] ^ self.key_schedule[row][col - 1]\n",
    "                    self.key_schedule[row].append(s)\n",
    "\n",
    "                    \n",
    "    def SubBytes(self):\n",
    "        for i in range(len(self.State)):\n",
    "            for j in range(len(self.State[i])):\n",
    "                row = self.State[i][j] // 0x10\n",
    "                col = self.State[i][j] % 0x10\n",
    "                self.State[i][j] = Sbox[row][col]\n",
    "    \n",
    "    \n",
    "    def ShiftRows(self):\n",
    "        for i in range(1, self.Nb):\n",
    "            self.State[i] = self.State[i][i:] + self.State[i][:i]\n",
    "    \n",
    "    \n",
    "    def SubWord(self, word):\n",
    "        row = word // 0x10\n",
    "        col = word % 0x10\n",
    "        return Sbox[row][col]\n",
    "    \n",
    "\n",
    "    def MixColumns(self):\n",
    "        for i in range(self.Nb):\n",
    "            s0 = mul_by_02(self.State[0][i]) ^ mul_by_03(self.State[1][i]) ^ self.State[2][i] ^ self.State[3][i]\n",
    "            s1 = self.State[0][i] ^ mul_by_02(self.State[1][i]) ^ mul_by_03(self.State[2][i]) ^ self.State[3][i]\n",
    "            s2 = self.State[0][i] ^ self.State[1][i] ^ mul_by_02(self.State[2][i]) ^ mul_by_03(self.State[3][i])\n",
    "            s3 = mul_by_03(self.State[0][i]) ^ self.State[1][i] ^ self.State[2][i] ^ mul_by_02(self.State[3][i])\n",
    "            self.State[0][i] = s0\n",
    "            self.State[1][i] = s1\n",
    "            self.State[2][i] = s2\n",
    "            self.State[3][i] = s3\n",
    "    \n",
    "    \n",
    "    def InvCipher(self, input_bytes, key):\n",
    "        self.init_state(input_bytes)\n",
    "\n",
    "        self.KeyExpansion(key)\n",
    "        self.AddRoundKey(self.Nr)\n",
    "\n",
    "        rnd = self.Nr - 1\n",
    "        while rnd >= 1:\n",
    "            self.InvShiftRows()\n",
    "            self.InvSubBytes()\n",
    "            self.AddRoundKey(rnd)\n",
    "            self.InvMixColumns()\n",
    "            rnd -= 1\n",
    "\n",
    "        self.InvShiftRows()\n",
    "        self.InvSubBytes()\n",
    "        self.AddRoundKey(rnd)\n",
    "\n",
    "        output = [None for i in range(4 * self.Nb)]\n",
    "        for r in range(4):\n",
    "            for c in range(self.Nb):\n",
    "                output[r + 4 * c] = self.State[r][c]\n",
    "\n",
    "        return output\n",
    "    \n",
    "    \n",
    "    def InvSubBytes(self):\n",
    "        for i in range(len(self.State)):\n",
    "            for j in range(len(self.State[i])):\n",
    "                row = self.State[i][j] // 0x10\n",
    "                col = self.State[i][j] % 0x10\n",
    "                self.State[i][j] = invSbox[row][col]\n",
    "                \n",
    "                \n",
    "    def InvShiftRows(self):\n",
    "        for i in range(1, self.Nb):\n",
    "            self.State[i] = self.State[i][-i:] + self.State[i][:-i]\n",
    "            \n",
    "    \n",
    "    def InvMixColumns(self):\n",
    "        for i in range(self.Nb):\n",
    "            s0 = mul_by_0e(self.State[0][i]) ^ mul_by_0b(self.State[1][i]) ^ mul_by_0d(self.State[2][i]) ^ mul_by_09(self.State[3][i])\n",
    "            s1 = mul_by_09(self.State[0][i]) ^ mul_by_0e(self.State[1][i]) ^ mul_by_0b(self.State[2][i]) ^ mul_by_0d(self.State[3][i])\n",
    "            s2 = mul_by_0d(self.State[0][i]) ^ mul_by_09(self.State[1][i]) ^ mul_by_0e(self.State[2][i]) ^ mul_by_0b(self.State[3][i])\n",
    "            s3 = mul_by_0b(self.State[0][i]) ^ mul_by_0d(self.State[1][i]) ^ mul_by_09(self.State[2][i]) ^ mul_by_0e(self.State[3][i])\n",
    "            self.State[0][i] = s0\n",
    "            self.State[1][i] = s1\n",
    "            self.State[2][i] = s2\n",
    "            self.State[3][i] = s3\n",
    "\n"
   ]
  },
  {
   "cell_type": "code",
   "execution_count": 3,
   "id": "european-determination",
   "metadata": {},
   "outputs": [],
   "source": [
    "import random\n",
    "\n",
    "def generate_bytes(n):\n",
    "    \"\"\" Фукнція генерує послідовність байтів довжини n. \"\"\"\n",
    "    a = []\n",
    "    for i in range(n):\n",
    "        a.append(random.randint(0, 255))\n",
    "    return bytes(a)"
   ]
  },
  {
   "cell_type": "code",
   "execution_count": 4,
   "id": "healthy-reach",
   "metadata": {},
   "outputs": [],
   "source": [
    "def isCorrect(aes_type):\n",
    "    aes_dict = {\n",
    "            128: 16,\n",
    "            192: 24,\n",
    "            256: 32\n",
    "        }\n",
    "    key = generate_bytes(aes_dict[aes_type])\n",
    "    text = generate_bytes(16)\n",
    "    \n",
    "    aes = AES(aes_type)\n",
    "    ct = aes.encrypt(text, key)\n",
    "    \n",
    "    pt = aes.decrypt(ct, key)\n",
    "    \n",
    "    if list(text) == pt:\n",
    "        print(\"Шифрування реалізовано правильно!\")\n",
    "    else:\n",
    "        print(\"На етапі шифрування/дешифрування сталась помилка :(\")"
   ]
  },
  {
   "cell_type": "code",
   "execution_count": 5,
   "id": "aggressive-commerce",
   "metadata": {},
   "outputs": [
    {
     "name": "stdout",
     "output_type": "stream",
     "text": [
      "Шифрування реалізовано правильно!\n"
     ]
    }
   ],
   "source": [
    "isCorrect(128)"
   ]
  },
  {
   "cell_type": "code",
   "execution_count": 6,
   "id": "brutal-telescope",
   "metadata": {},
   "outputs": [
    {
     "name": "stdout",
     "output_type": "stream",
     "text": [
      "Шифрування реалізовано правильно!\n"
     ]
    }
   ],
   "source": [
    "isCorrect(192)"
   ]
  },
  {
   "cell_type": "code",
   "execution_count": 7,
   "id": "suspected-veteran",
   "metadata": {},
   "outputs": [
    {
     "name": "stdout",
     "output_type": "stream",
     "text": [
      "Шифрування реалізовано правильно!\n"
     ]
    }
   ],
   "source": [
    "isCorrect(256)"
   ]
  },
  {
   "cell_type": "code",
   "execution_count": 8,
   "id": "filled-camel",
   "metadata": {},
   "outputs": [],
   "source": [
    "def encrypt_file(fname1, fname2, key):\n",
    "    with open(fname1, \"rb\") as f1:\n",
    "        plaintext = f1.read()\n",
    "        \n",
    "    aes128 = AES(128)\n",
    "\n",
    "    ciphertext = []\n",
    "    while len(plaintext) > 0:\n",
    "        pt = plaintext[:16]\n",
    "        ct = aes128.encrypt(list(pt), key)\n",
    "        ciphertext += ct\n",
    "        plaintext = plaintext[16:]\n",
    "\n",
    "    with open(fname2, \"wb\") as f2:\n",
    "        f2.write(bytes(ciphertext))\n",
    "        \n",
    "        \n",
    "def decrypt_file(fname1, fname2, key):\n",
    "    with open(fname1, \"rb\") as f1:\n",
    "        ciphertext = f1.read()\n",
    "        \n",
    "    aes128 = AES(128)\n",
    "\n",
    "    plaintext = []\n",
    "    while len(ciphertext) > 0:\n",
    "        ct = ciphertext[:16]\n",
    "        pt = aes128.decrypt(list(ct), key)\n",
    "        plaintext += pt\n",
    "        ciphertext = ciphertext[16:]\n",
    "\n",
    "    with open(fname2, \"wb\") as f2:\n",
    "        f2.write(bytes(plaintext))\n",
    "        \n",
    "        \n",
    "def read_bin_file(fname):\n",
    "    with open(fname, \"rb\") as f:\n",
    "        print(list(f.read()))"
   ]
  },
  {
   "cell_type": "code",
   "execution_count": 9,
   "id": "confused-pottery",
   "metadata": {},
   "outputs": [
    {
     "name": "stdout",
     "output_type": "stream",
     "text": [
      "[208, 163, 208, 186, 209, 128, 208, 176, 209, 151, 208, 189, 209, 129, 209, 140, 208, 186, 208, 184, 208, 185, 32, 208, 189, 208, 176, 209, 128, 208, 190, 208, 180, 32, 208, 191, 208, 190, 32, 208, 191, 209, 128, 208, 176, 208, 178, 209, 131, 32, 208, 191, 208, 184, 209, 136, 208, 176, 209, 148, 209, 130, 209, 140, 209, 129, 209, 143, 32, 209, 129, 208, 178, 208, 190, 209, 151, 208, 188, 208, 184, 32, 208, 191, 209, 150, 209, 129, 208, 189, 209, 143, 208, 188, 208, 184, 46, 32, 208, 148, 208, 190, 209, 129, 208, 187, 209, 150, 208, 180, 208, 189, 208, 184, 208, 186, 208, 184, 13, 10, 208, 189, 208, 176, 208, 187, 209, 150, 209, 135, 209, 131, 209, 142, 209, 130, 209, 140, 32, 209, 151, 209, 133, 32, 208, 191, 209, 128, 208, 184, 208, 177, 208, 187, 208, 184, 208, 183, 208, 189, 208, 190, 32, 209, 130, 209, 128, 208, 184, 209, 129, 209, 130, 208, 176, 32, 209, 130, 208, 184, 209, 129, 209, 143, 209, 135, 46, 32, 13, 10]\n"
     ]
    }
   ],
   "source": [
    "read_bin_file(\"book1.txt\")"
   ]
  },
  {
   "cell_type": "code",
   "execution_count": 10,
   "id": "knowing-holocaust",
   "metadata": {},
   "outputs": [
    {
     "name": "stdout",
     "output_type": "stream",
     "text": [
      "[118, 131, 175, 255, 65, 173, 107, 223, 162, 23, 197, 223, 16, 176, 17, 69, 209, 247, 11, 105, 8, 235, 56, 54, 50, 166, 9, 55, 82, 53, 0, 219, 150, 54, 52, 140, 214, 161, 243, 221, 61, 117, 47, 232, 178, 196, 211, 241, 234, 102, 236, 78, 251, 23, 101, 158, 249, 171, 14, 160, 233, 49, 199, 171, 53, 127, 46, 16, 255, 253, 238, 253, 82, 234, 214, 54, 106, 142, 19, 205, 0, 100, 81, 209, 212, 128, 228, 238, 181, 195, 254, 193, 141, 135, 245, 187, 97, 138, 136, 52, 53, 32, 171, 126, 116, 93, 28, 255, 150, 19, 207, 209, 73, 236, 152, 202, 124, 68, 120, 102, 61, 110, 56, 177, 97, 205, 176, 173, 227, 29, 117, 9, 168, 6, 21, 62, 22, 22, 84, 81, 233, 25, 190, 236, 189, 75, 130, 68, 63, 70, 31, 6, 27, 224, 169, 134, 173, 21, 77, 37, 119, 117, 192, 253, 17, 190, 43, 162, 39, 253, 135, 66, 6, 204, 218, 190, 26, 123, 201, 37, 220, 205, 125, 187, 217, 121, 188, 61, 172, 253, 85, 241]\n"
     ]
    }
   ],
   "source": [
    "key = generate_bytes(16)\n",
    "encrypt_file(\"book1.txt\", \"book1_encrypted.txt\", key)\n",
    "read_bin_file(\"book1_encrypted.txt\")"
   ]
  },
  {
   "cell_type": "code",
   "execution_count": 11,
   "id": "living-contrast",
   "metadata": {},
   "outputs": [
    {
     "name": "stdout",
     "output_type": "stream",
     "text": [
      "[208, 163, 208, 186, 209, 128, 208, 176, 209, 151, 208, 189, 209, 129, 209, 140, 208, 186, 208, 184, 208, 185, 32, 208, 189, 208, 176, 209, 128, 208, 190, 208, 180, 32, 208, 191, 208, 190, 32, 208, 191, 209, 128, 208, 176, 208, 178, 209, 131, 32, 208, 191, 208, 184, 209, 136, 208, 176, 209, 148, 209, 130, 209, 140, 209, 129, 209, 143, 32, 209, 129, 208, 178, 208, 190, 209, 151, 208, 188, 208, 184, 32, 208, 191, 209, 150, 209, 129, 208, 189, 209, 143, 208, 188, 208, 184, 46, 32, 208, 148, 208, 190, 209, 129, 208, 187, 209, 150, 208, 180, 208, 189, 208, 184, 208, 186, 208, 184, 13, 10, 208, 189, 208, 176, 208, 187, 209, 150, 209, 135, 209, 131, 209, 142, 209, 130, 209, 140, 32, 209, 151, 209, 133, 32, 208, 191, 209, 128, 208, 184, 208, 177, 208, 187, 208, 184, 208, 183, 208, 189, 208, 190, 32, 209, 130, 209, 128, 208, 184, 209, 129, 209, 130, 208, 176, 32, 209, 130, 208, 184, 209, 129, 209, 143, 209, 135, 46, 32, 13, 10, 1, 1]\n"
     ]
    }
   ],
   "source": [
    "decrypt_file(\"book1_encrypted.txt\", \"book1_decrypted.txt\", key)\n",
    "read_bin_file(\"book1_decrypted.txt\")"
   ]
  },
  {
   "cell_type": "markdown",
   "id": "vocal-recovery",
   "metadata": {},
   "source": [
    "**Завдання 2.** Для кожної з криптосистем AES-128, AES-192 і AES-256 знайдіть, скільки в середньому (серед 1000 випадкових випробувань) біт криптотексту змінюється при зміні\n",
    "\n",
    "**a)** одного біта відкритого тексту;"
   ]
  },
  {
   "cell_type": "code",
   "execution_count": 12,
   "id": "ceramic-contents",
   "metadata": {},
   "outputs": [],
   "source": [
    "def change_random_bit(bytes_lst):\n",
    "    \"\"\" Функція змінює один випадковий біт в байті b зі списку байтів bytes_lst. \"\"\"\n",
    "    \n",
    "    j = random.randint(0, len(bytes_lst) - 1)\n",
    "    b = bytes_lst[j]\n",
    "    b1 = 0b1 << random.randint(0, 7)\n",
    "    bytes_lst[j] = b^b1\n",
    "    return bytes_lst\n",
    "\n",
    "\n",
    "def compare_bits(bytes_lst1, bytes_lst2):\n",
    "    \"\"\" Функція повертає кількість бітів, що не співпадають у списках байтів \n",
    "    bytes_lst1 та bytes_lst2. \"\"\"\n",
    "    assert len(bytes_lst1) ==  len(bytes_lst2)\n",
    "    \n",
    "    cnt = 0  # к-кість різних байтів\n",
    "    for i in range(len(bytes_lst1)):\n",
    "        # кількість бітів, що відрізняються в двох байтах = к-кість одиниць в двійковому представленні XOR'у відповідних байтів\n",
    "        b1 = bytes_lst1[i]\n",
    "        b2 = bytes_lst2[i]\n",
    "        b12 = bin(b1^b2)\n",
    "        cnt += b12.count('1')\n",
    "    return cnt"
   ]
  },
  {
   "cell_type": "code",
   "execution_count": 13,
   "id": "compressed-worker",
   "metadata": {},
   "outputs": [],
   "source": [
    "def task_a(k, n=1000):\n",
    "    aes = AES(k * 8)\n",
    "    Sum = 0\n",
    "    for i in range(n):\n",
    "        key = list(generate_bytes(k))\n",
    "\n",
    "        message1 = list(generate_bytes(16))\n",
    "        ciphertext1 = aes.encrypt(message1, key)\n",
    "\n",
    "        message2 = change_random_bit(message1)\n",
    "        ciphertext2 = aes.encrypt(message2, key)\n",
    "\n",
    "        Sum += compare_bits(ciphertext1, ciphertext2)\n",
    "\n",
    "    print(\"З {} бітів у середньому змінюється {:.2f}, тобто {:.2f}%\".format(k * 8, Sum / n, (Sum / n) / (k * 8)))"
   ]
  },
  {
   "cell_type": "code",
   "execution_count": 14,
   "id": "micro-summit",
   "metadata": {},
   "outputs": [
    {
     "name": "stdout",
     "output_type": "stream",
     "text": [
      "З 128 бітів у середньому змінюється 63.78, тобто 0.50%\n"
     ]
    }
   ],
   "source": [
    "task_a(16)"
   ]
  },
  {
   "cell_type": "code",
   "execution_count": 15,
   "id": "lasting-moses",
   "metadata": {},
   "outputs": [
    {
     "name": "stdout",
     "output_type": "stream",
     "text": [
      "З 192 бітів у середньому змінюється 63.76, тобто 0.33%\n"
     ]
    }
   ],
   "source": [
    "task_a(24)"
   ]
  },
  {
   "cell_type": "code",
   "execution_count": 16,
   "id": "heated-nudist",
   "metadata": {},
   "outputs": [
    {
     "name": "stdout",
     "output_type": "stream",
     "text": [
      "З 256 бітів у середньому змінюється 63.96, тобто 0.25%\n"
     ]
    }
   ],
   "source": [
    "task_a(32)"
   ]
  },
  {
   "cell_type": "markdown",
   "id": "mounted-failing",
   "metadata": {},
   "source": [
    "**б)** одного біта ключа."
   ]
  },
  {
   "cell_type": "code",
   "execution_count": 17,
   "id": "valuable-liechtenstein",
   "metadata": {},
   "outputs": [],
   "source": [
    "def task_b(k, n=1000):\n",
    "    aes = AES(k * 8)\n",
    "    Sum = 0\n",
    "\n",
    "    for i in range(n):\n",
    "        message = list(generate_bytes(16))\n",
    "\n",
    "        key1 = list(generate_bytes(k))\n",
    "        ciphertext1 = aes.encrypt(message, key1)\n",
    "\n",
    "        key2 = change_random_bit(key1)\n",
    "        ciphertext2 = aes.encrypt(message, key2)\n",
    "\n",
    "        Sum += compare_bits(ciphertext1, ciphertext2)\n",
    "\n",
    "    print(\"З {} бітів у середньому змінюється {:.2f}, тобто {:.2f}%\".format(k * 8, Sum / n, (Sum / n) / (k * 8)))"
   ]
  },
  {
   "cell_type": "code",
   "execution_count": 18,
   "id": "african-spring",
   "metadata": {},
   "outputs": [
    {
     "name": "stdout",
     "output_type": "stream",
     "text": [
      "З 128 бітів у середньому змінюється 63.91, тобто 0.50%\n"
     ]
    }
   ],
   "source": [
    "task_b(16)"
   ]
  },
  {
   "cell_type": "code",
   "execution_count": 19,
   "id": "corporate-girlfriend",
   "metadata": {},
   "outputs": [
    {
     "name": "stdout",
     "output_type": "stream",
     "text": [
      "З 192 бітів у середньому змінюється 64.12, тобто 0.33%\n"
     ]
    }
   ],
   "source": [
    "task_b(24)"
   ]
  },
  {
   "cell_type": "code",
   "execution_count": 20,
   "id": "heated-machine",
   "metadata": {},
   "outputs": [
    {
     "name": "stdout",
     "output_type": "stream",
     "text": [
      "З 256 бітів у середньому змінюється 64.16, тобто 0.25%\n"
     ]
    }
   ],
   "source": [
    "task_b(32)"
   ]
  }
 ],
 "metadata": {
  "kernelspec": {
   "display_name": "Python 3",
   "language": "python",
   "name": "python3"
  },
  "language_info": {
   "codemirror_mode": {
    "name": "ipython",
    "version": 3
   },
   "file_extension": ".py",
   "mimetype": "text/x-python",
   "name": "python",
   "nbconvert_exporter": "python",
   "pygments_lexer": "ipython3",
   "version": "3.8.10"
  }
 },
 "nbformat": 4,
 "nbformat_minor": 5
}
