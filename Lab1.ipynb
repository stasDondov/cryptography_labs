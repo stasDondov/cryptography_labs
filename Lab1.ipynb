{
 "cells": [
  {
   "cell_type": "markdown",
   "id": "white-touch",
   "metadata": {},
   "source": [
    "# Лабораторна робота 1"
   ]
  },
  {
   "cell_type": "markdown",
   "id": "geological-click",
   "metadata": {},
   "source": [
    "### Шифр Вiженера. Частотний криптоаналiз"
   ]
  },
  {
   "cell_type": "markdown",
   "id": "small-bubble",
   "metadata": {},
   "source": [
    "Розглядаються тексти українською мовою. При аналiзi текстiв пробiли, цифри та\n",
    "знаки пунктуацiї iгноруються. Мiнiмальна довжина ключа — 5, максимальна — 20."
   ]
  },
  {
   "cell_type": "code",
   "execution_count": 1,
   "id": "historical-marble",
   "metadata": {},
   "outputs": [],
   "source": [
    "import pandas as pd\n",
    "import numpy as np\n",
    "import matplotlib.pyplot as plt\n",
    "import matplotlib\n",
    "import re\n",
    "from pylab import rcParams\n",
    "import random\n",
    "import math\n",
    "\n",
    "# Джерела\n",
    "# http://practicalcryptography.com/cryptanalysis/text-characterisation/chi-squared-statistic/\n",
    "# http://practicalcryptography.com/cryptanalysis/stochastic-searching/cryptanalysis-vigenere-cipher/\n",
    "# https://en.wikipedia.org/wiki/Index_of_coincidence"
   ]
  },
  {
   "cell_type": "markdown",
   "id": "continued-desire",
   "metadata": {},
   "source": [
    "**Завдання 1.** Побудуйте гiстограму частот появи лiтер в текстi."
   ]
  },
  {
   "cell_type": "code",
   "execution_count": 2,
   "id": "anonymous-heath",
   "metadata": {},
   "outputs": [
    {
     "data": {
      "text/plain": [
       "'              О. М. АВРАМЕНКО\\n\\n\\n\\n\\n       УКРАЇНСЬКА\\n       ЛІТЕРАТУРА\\n           Підручник для 6 класу\\n    загальноосвітніх навчальних закладів\\n\\nРекомендовано Міністерством освіти і науки України\\n\\n\\n\\n\\n                      Київ\\n                    «Грамота»\\n                      2014\\n\\x0c      УДК 373.5:821.161.2.09.+821.161.2.09] (075.3)\\n      Б Б К 83.3(4Укр)я721\\n           А21\\n\\n                      Рекомендовано Міністерством освіти і науки України\\n                        (наказ М ОН України від 07.02. 2014 р. № 123)\\n\\n              В и д ано з а р а х у н о к д е р ж а вн и х к о ш т ів . П родаж за б о р о н ен о\\n\\nН аукову експертизу проводив Інститут літератури ім. Т. Г. Шевченка НАН України.\\nПсихолого-педагогічну експертизу проводив Інститут педагогіки НАПН України.\\nЕксперт и, я кі здійсню вали експерт изу: О. О. Матвеева, молодший науковий співро\\xad\\nбітник Інституту літератури ім. Т. Г. Ш евченка НАН України; С. П. Паламар, старший\\nнауковий співробітник, завідувач лабораторії літерат'"
      ]
     },
     "execution_count": 2,
     "metadata": {},
     "output_type": "execute_result"
    }
   ],
   "source": [
    "text1 = open(\"book1.txt\", \"r\").read() \n",
    "text1[:1000]  # приклад тексту 1"
   ]
  },
  {
   "cell_type": "code",
   "execution_count": 3,
   "id": "industrial-audience",
   "metadata": {},
   "outputs": [],
   "source": [
    "alphabet = \"абвгґдеєжзиіїйклмнопрстуфхцчшщьюя\"\n",
    "punсt = \"!()-[]{};?@#$%:'\\\"\\,./^&amp;*_ \""
   ]
  },
  {
   "cell_type": "code",
   "execution_count": 4,
   "id": "cathedral-andorra",
   "metadata": {},
   "outputs": [],
   "source": [
    "def clear_text(text):\n",
    "    \"\"\" \n",
    "        З тексту видаляються всі розділові знаки, пробіли, літери переводяться в нижній регістр. \n",
    "    \"\"\"\n",
    "    return \"\".join([s.lower() for s in text if s.lower() in alphabet])"
   ]
  },
  {
   "cell_type": "code",
   "execution_count": 5,
   "id": "confidential-million",
   "metadata": {},
   "outputs": [],
   "source": [
    "#text1 = clear_text(text1)\n",
    "#text1[:1000]"
   ]
  },
  {
   "cell_type": "code",
   "execution_count": 6,
   "id": "average-importance",
   "metadata": {},
   "outputs": [],
   "source": [
    "def num_of_letters(text):\n",
    "    \"\"\"\n",
    "        Допоміжна функція, яка рахує кількість літер в тексті, тобто\n",
    "        символів, які треба зашифрувати.\n",
    "    \"\"\"\n",
    "    return sum([1 for s in text if s.lower() in alphabet])"
   ]
  },
  {
   "cell_type": "code",
   "execution_count": 7,
   "id": "clear-spectacular",
   "metadata": {},
   "outputs": [],
   "source": [
    "def get_frequencies(text):\n",
    "    \"\"\" Функція повертає список кортежів, де на першому місці стоїть літера, \n",
    "        на другому - частота її появи в тексті. \n",
    "    \"\"\"   \n",
    "    frequencies = dict()\n",
    "    for s in list(alphabet):\n",
    "        frequencies.update({s: 0})\n",
    "    \n",
    "    for s in text:\n",
    "        if s.lower() in alphabet:\n",
    "            frequencies[s.lower()] += 1\n",
    "            \n",
    "    N = num_of_letters(text)\n",
    "    \n",
    "    for k, v in frequencies.items():\n",
    "        frequencies[k] = v / N\n",
    "        \n",
    "    return sorted(frequencies.items(), key=lambda x: -x[1])"
   ]
  },
  {
   "cell_type": "code",
   "execution_count": 8,
   "id": "ethical-council",
   "metadata": {},
   "outputs": [
    {
     "data": {
      "text/plain": [
       "[('о', 0.09268153021784468),\n",
       " ('а', 0.08692735422988074),\n",
       " ('и', 0.06797787028122483),\n",
       " ('н', 0.06008482497480794),\n",
       " ('в', 0.0572863306040762),\n",
       " ('і', 0.05371874149153855),\n",
       " ('т', 0.04973572894182107),\n",
       " ('е', 0.046019373328131184),\n",
       " ('р', 0.04507905676424439),\n",
       " ('с', 0.04083500110873147),\n",
       " ('к', 0.040644130880838035),\n",
       " ('л', 0.03652638640554871),\n",
       " ('у', 0.035979037957913115),\n",
       " ('д', 0.032439517996536264),\n",
       " ('м', 0.031412187064050995),\n",
       " ('п', 0.028523871409604704),\n",
       " ('я', 0.024916985485441936),\n",
       " ('з', 0.023134594386731152),\n",
       " ('б', 0.01862388179519063),\n",
       " ('ь', 0.018132671649876635),\n",
       " ('г', 0.01636712204186233),\n",
       " ('й', 0.01546890920471674),\n",
       " ('ч', 0.014163693675739553),\n",
       " ('х', 0.01113222535037318),\n",
       " ('ж', 0.009754030028377911),\n",
       " ('ю', 0.008538635783115282),\n",
       " ('ш', 0.008417938433123844),\n",
       " ('ц', 0.00768533358782697),\n",
       " ('щ', 0.005692423855410188),\n",
       " ('ї', 0.005257352012417792),\n",
       " ('є', 0.004884032301979156),\n",
       " ('ф', 0.001866598552193183),\n",
       " ('ґ', 9.262819883063916e-05)]"
      ]
     },
     "execution_count": 8,
     "metadata": {},
     "output_type": "execute_result"
    }
   ],
   "source": [
    "frequencies1 = get_frequencies(text1)\n",
    "frequencies1"
   ]
  },
  {
   "cell_type": "code",
   "execution_count": 9,
   "id": "selective-wright",
   "metadata": {},
   "outputs": [],
   "source": [
    "def visualize_frequencies(frequencies, sort=True):  \n",
    "    \"\"\"\n",
    "        Функція будує гістограму частот появи літер в тексті.\n",
    "            - якщо sort=True, то гістограма будується за спаданням частоти;\n",
    "            - якщо sort=False, то за алфавітом.\n",
    "    \"\"\"\n",
    "    if sort:\n",
    "        index = [c[0] for c in frequencies]\n",
    "        values = [c[1] for c in frequencies]\n",
    "    else:\n",
    "        index = list(alphabet)\n",
    "        values = []\n",
    "        for i in range(33):\n",
    "            for c in frequencies:\n",
    "                if c[0] == index[i]:\n",
    "                    values.append(c[1])\n",
    "                    break\n",
    "                \n",
    "    plt.bar(index, values, color=\"blue\")\n",
    "    plt.title(\"Частоти появи лiтер в текстi\", fontweight=\"bold\", fontsize=18)\n",
    "    rcParams['figure.figsize'] = 12, 6\n",
    "    \n",
    "    plt.show()"
   ]
  },
  {
   "cell_type": "code",
   "execution_count": 11,
   "id": "tribal-rotation",
   "metadata": {},
   "outputs": [
    {
     "data": {
      "image/png": "[encoded data removed]",
      "text/plain": [
       "<Figure size 864x432 with 1 Axes>"
      ]
     },
     "metadata": {
      "needs_background": "light"
     },
     "output_type": "display_data"
    }
   ],
   "source": [
    "visualize_frequencies(frequencies1, False)"
   ]
  },
  {
   "cell_type": "markdown",
   "id": "small-prime",
   "metadata": {},
   "source": [
    "**Завдання 2.** Реалiзуйте алгоритм шифрування Вiженера."
   ]
  },
  {
   "cell_type": "code",
   "execution_count": 12,
   "id": "democratic-south",
   "metadata": {},
   "outputs": [],
   "source": [
    "# ключ складається тільки з літер в нижньому регістрі\n",
    "\n",
    "def encrypt_Vigenere(plaintext, key):\n",
    "    \"\"\"\n",
    "        Функція шифрує текст за алгоритмом Віженера.\n",
    "    \"\"\"\n",
    "    ciphertext = \"\"\n",
    "    i = 0  # вказівник по літерах - костиль виник, коли треба було вирішити задачу невидаляння розділових знаків з тексту\n",
    "    j = 0  # вказівник по всіх символах тексту\n",
    "    while j < len(plaintext): \n",
    "        a = plaintext[j]\n",
    "        if a.lower() in alphabet:\n",
    "            b = key[i % len(key)]\n",
    "            a_ind = alphabet.index(a.lower())\n",
    "            b_ind = alphabet.index(b)\n",
    "            c_ind = (a_ind + b_ind) % 33\n",
    "            c = alphabet[c_ind]\n",
    "            if a == a.upper():  # зберігаємо регістр літер\n",
    "                c = c.upper()\n",
    "            ciphertext += c\n",
    "            i += 1\n",
    "        else:\n",
    "            ciphertext += a\n",
    "        j += 1\n",
    "        \n",
    "    return ciphertext\n",
    "\n",
    "\n",
    "\n",
    "def decrypt_Vigenere(ciphertext, key):\n",
    "    \"\"\"\n",
    "        Функція розшифровує текст за алгоритмом Віженера.\n",
    "    \"\"\"\n",
    "    plaintext = \"\"    \n",
    "    i = 0\n",
    "    j = 0\n",
    "    while j < len(ciphertext):\n",
    "        a = ciphertext[j]\n",
    "        if a.lower() in alphabet:\n",
    "            b = key[i % len(key)]\n",
    "            a_ind = alphabet.index(a.lower()) \n",
    "            b_ind = alphabet.index(b)\n",
    "            c_ind = (a_ind - b_ind) % 33\n",
    "            c = alphabet[c_ind]\n",
    "            if a == a.upper():  \n",
    "                c = c.upper()\n",
    "            plaintext += c\n",
    "            i += 1\n",
    "        else:\n",
    "            plaintext += a        \n",
    "        j += 1\n",
    "        \n",
    "    return plaintext"
   ]
  },
  {
   "cell_type": "code",
   "execution_count": 13,
   "id": "dominant-stopping",
   "metadata": {},
   "outputs": [],
   "source": [
    "def check_correctness(text, decrypted_text):\n",
    "    \"\"\"\n",
    "        Допоміжна функція, показує чи правильно ми зашифрували/розшифрували текст.\n",
    "    \"\"\"\n",
    "    if text == decrypted_text:\n",
    "        print(\"\\nРозкодований текст повністю співпадає з початковим!\")\n",
    "    else:\n",
    "        print(\"\\nПід час шифрування/дешифрування сталась помилка :(\")"
   ]
  },
  {
   "cell_type": "code",
   "execution_count": 14,
   "id": "black-compilation",
   "metadata": {},
   "outputs": [
    {
     "name": "stdout",
     "output_type": "stream",
     "text": [
      "\t\tЗакодований шифром Віженера текст:\n",
      "ЗБЬВУЕЄНФВ ЦАЖЦЬВАЇЕР \tЩймззкчїх чбп 6 фніиз\n",
      "щидіґмґшряфьзчйг ептґвцпгьв іігбрлйй.\n",
      "\n",
      "\t\tРозкодований текст:\n",
      "УКРАЇНСЬКА ЛІТЕРАТУРА \tПідручник для 6 класу\n",
      "загальноосвітніх навчальних закладів.\n",
      "\n",
      "Розкодований текст повністю співпадає з початковим!\n"
     ]
    }
   ],
   "source": [
    "# Перевірка\n",
    "\n",
    "key_1 = \"привіт\"\n",
    "text_1 = \"УКРАЇНСЬКА ЛІТЕРАТУРА \\tПідручник для 6 класу\\nзагальноосвітніх навчальних закладів.\"\n",
    "\n",
    "print(\"\\t\\tЗакодований шифром Віженера текст:\")\n",
    "encrypted_text_1 = encrypt_Vigenere(text_1, key_1)\n",
    "print(encrypted_text_1)\n",
    "\n",
    "print(\"\\n\\t\\tРозкодований текст:\")\n",
    "decrypted_text_1 = decrypt_Vigenere(encrypted_text_1, key_1)\n",
    "print(decrypted_text_1)\n",
    "\n",
    "check_correctness(text_1, decrypted_text_1)"
   ]
  },
  {
   "cell_type": "code",
   "execution_count": 15,
   "id": "seeing-screen",
   "metadata": {},
   "outputs": [],
   "source": [
    "def encrypt_file(fname1, fname2, key):\n",
    "    \"\"\"\n",
    "        Шифруємо текст файлу fname1 та записуємо його в новий файл fname2.\n",
    "    \"\"\"\n",
    "    with open(fname1, \"r\") as f1:\n",
    "        text = f1.read()\n",
    "        with open(fname2, \"w\") as f2:\n",
    "            f2.write(encrypt_Vigenere(text, key))\n",
    "            \n",
    "\n",
    "def decrypt_file(fname1, fname2, key):\n",
    "    \"\"\"\n",
    "        Розшифровуємо текст файлу fname1 та записуємо його в новий файл fname2.\n",
    "    \"\"\"\n",
    "    with open(fname1, \"r\") as f1:\n",
    "        text = f1.read()\n",
    "        with open(fname2, \"w\") as f2:\n",
    "            f2.write(decrypt_Vigenere(text, key))"
   ]
  },
  {
   "cell_type": "code",
   "execution_count": 16,
   "id": "particular-ballot",
   "metadata": {},
   "outputs": [],
   "source": [
    "# зашифруємо весь текст файлу \"book1.txt\" та запишемо в окремий файл \"encrypted_book1.txt\"\n",
    "\n",
    "key1 = \"криптографія\"\n",
    "encrypt_file(\"book1.txt\", \"encrypted_book1.txt\", key1)"
   ]
  },
  {
   "cell_type": "markdown",
   "id": "necessary-affect",
   "metadata": {},
   "source": [
    "**Завдання 3.** Проведiть криптоаналiз шифру Вiженера i розшифруйте запропонований крипто-текст, не знаючи секретного ключа."
   ]
  },
  {
   "cell_type": "code",
   "execution_count": 17,
   "id": "fleet-harmony",
   "metadata": {},
   "outputs": [],
   "source": [
    "# вважатимемо частоти появи літер в тексті, отримані в завданні 1 є \"правильними\"\n",
    "\n",
    "def generate_key():\n",
    "    \"\"\" Функція генерує випадковий ключ довжини від 5 до 20 символів. \"\"\"\n",
    "    alphabet = \"абвгґдеєжзиіїйклмнопрстуфхцчшщьюя\"\n",
    "    length = random.randint(5, 20)\n",
    "    key = \"\"\n",
    "    return \"\".join(random.choice(alphabet) for i in range(length))"
   ]
  },
  {
   "cell_type": "code",
   "execution_count": 18,
   "id": "framed-submission",
   "metadata": {},
   "outputs": [],
   "source": [
    "# нехай заданий криптотекст - зашифрована \"book2.txt\"\n",
    "text2 = open(\"book2.txt\", \"r\").read() \n",
    "key2 = generate_key()\n",
    "encrypted_text2 = encrypt_Vigenere(text2, key2)\n",
    "\n",
    "# очищені дані зручніше аналізувати\n",
    "clean_encrypted_text2 = clear_text(encrypted_text2)  "
   ]
  },
  {
   "cell_type": "code",
   "execution_count": 19,
   "id": "incoming-equity",
   "metadata": {},
   "outputs": [
    {
     "data": {
      "text/plain": [
       "'кьщвцччтвсшєн'"
      ]
     },
     "execution_count": 19,
     "metadata": {},
     "output_type": "execute_result"
    }
   ],
   "source": [
    "key2  # за умовою ми не знаємо цей ключ"
   ]
  },
  {
   "cell_type": "code",
   "execution_count": 20,
   "id": "willing-baltimore",
   "metadata": {},
   "outputs": [
    {
     "data": {
      "image/png": "[encoded data removed]",
      "text/plain": [
       "<Figure size 864x432 with 1 Axes>"
      ]
     },
     "metadata": {
      "needs_background": "light"
     },
     "output_type": "display_data"
    }
   ],
   "source": [
    "frequencies2 = get_frequencies(encrypted_text2)\n",
    "visualize_frequencies(frequencies2)"
   ]
  },
  {
   "cell_type": "markdown",
   "id": "accompanied-sitting",
   "metadata": {},
   "source": [
    "На цій гістограмі частоти розподілені більш рівномірно, ніж на попередній. Отже аналіз монограм буде не дуже ефективним. "
   ]
  },
  {
   "cell_type": "code",
   "execution_count": 21,
   "id": "bored-spare",
   "metadata": {},
   "outputs": [],
   "source": [
    "# Для початку визначимо довжину ключа\n",
    "# Для цього скористаємось індексом співпадіння (the index of coincidence)\n",
    "\n",
    "\n",
    "def IC(text):\n",
    "    \"\"\"\n",
    "        The index of coincidence provides a measure of how likely it is to \n",
    "        draw two matching letters by randomly selecting two letters from a given text.\n",
    "    \"\"\"\n",
    "    c = 33\n",
    "    N = len(text)\n",
    "    S = 0\n",
    "    for i in range(33):\n",
    "        ni = text.count(alphabet[i])\n",
    "        S += (ni / N) * ((ni - 1) / (N - 1))\n",
    "    return c * S\n",
    "\n",
    "\n",
    "def average(lst):\n",
    "    return sum(lst) / len(lst)\n",
    "\n",
    "\n",
    "def best_lengths(text):  \n",
    "    \"\"\"\n",
    "        Функція повертає список кортежів, в яких на першій позиції - ймовірна довжина ключа,\n",
    "        на другій - її IC-value. Чим більше IC-value, тим ймовірніше, що ключ має таку довжину.\n",
    "    \"\"\"\n",
    "    ICs = dict()\n",
    "    for i in range(5, 21):\n",
    "        ic = []\n",
    "        N = len(text)\n",
    "        for j in range(i):\n",
    "            subtext = \"\".join([text[i*k + j] for k in range(len(text) // i)])\n",
    "            ic.append(IC(subtext))\n",
    "        ICs.update({str(i): average(ic)})\n",
    "        \n",
    "    ans = sorted(ICs.items(), key=lambda x: -x[1])\n",
    "    print(\"Найімовірніше ключ має довжину {}.\".format(ans[0][0]))\n",
    "    return ans"
   ]
  },
  {
   "cell_type": "code",
   "execution_count": 22,
   "id": "iraqi-chemical",
   "metadata": {},
   "outputs": [
    {
     "name": "stdout",
     "output_type": "stream",
     "text": [
      "Найімовірніше ключ має довжину 13.\n"
     ]
    }
   ],
   "source": [
    "key_length = best_lengths(clean_encrypted_text2)"
   ]
  },
  {
   "cell_type": "code",
   "execution_count": 23,
   "id": "forbidden-missile",
   "metadata": {
    "scrolled": false
   },
   "outputs": [],
   "source": [
    "# знайдемо ймовірний ключ довжини 13\n",
    "\n",
    "def chi_square(text):\n",
    "    \"\"\"\n",
    "        The Chi-squared statistic, which compare the frequency distribution of our \n",
    "        subsequences to the expected frequency distribution (використовуємо значення\n",
    "        частот, отримані в завданні 1).\n",
    "    \"\"\"\n",
    "    global frequencies1\n",
    "    S = 0\n",
    "    for i in range(33):\n",
    "        Ci = text.count(alphabet[i])\n",
    "        fr = [v for k, v in frequencies1 if k == alphabet[i]][0]\n",
    "        Ei = fr * len(text)\n",
    "        S += math.pow(Ci - Ei, 2) / Ei\n",
    "    return S\n",
    "\n",
    "\n",
    "def find_key(text, i):\n",
    "    \"\"\"\n",
    "        We try deciphering text with each of the 33 possible Caesar ciphers, \n",
    "        and compare the frequency distribution of the deciphered text with the \n",
    "        frequency distribution of Ukrainian for each key.\n",
    "    \"\"\"\n",
    "    key = \"\"\n",
    "    for j in range(i):\n",
    "        sequences = {}\n",
    "        subtext = \"\".join([text[i*k + j] for k in range(len(text) // i)])\n",
    "        for k in range(33):\n",
    "            subtext1 = \"\".join([alphabet[(alphabet.index(s) - k) % 33] for s in subtext])\n",
    "            chi = chi_square(subtext1)\n",
    "            sequences.update({str(k): chi})\n",
    "        min_chi = min(list(sequences.values()))\n",
    "        s = [k for k, v in sequences.items() if v == min_chi][0]\n",
    "        key += alphabet[int(s)]\n",
    "    return key"
   ]
  },
  {
   "cell_type": "code",
   "execution_count": 24,
   "id": "present-snapshot",
   "metadata": {},
   "outputs": [
    {
     "data": {
      "text/plain": [
       "'кьщвцччтвсшєн'"
      ]
     },
     "execution_count": 24,
     "metadata": {},
     "output_type": "execute_result"
    }
   ],
   "source": [
    "find_key(clean_encrypted_text2, 13)"
   ]
  },
  {
   "cell_type": "code",
   "execution_count": 25,
   "id": "offensive-rendering",
   "metadata": {},
   "outputs": [
    {
     "name": "stdout",
     "output_type": "stream",
     "text": [
      "\n",
      "Розкодований текст повністю співпадає з початковим!\n"
     ]
    }
   ],
   "source": [
    "# спробуємо розшифрувати за допомогою отриманого ключа\n",
    "\n",
    "key = \"кьщвцччтвсшєн\"\n",
    "decrypted_text2 = decrypt_Vigenere(encrypted_text2, key)\n",
    "check_correctness(text2, decrypted_text2)"
   ]
  }
 ],
 "metadata": {
  "kernelspec": {
   "display_name": "Python 3",
   "language": "python",
   "name": "python3"
  },
  "language_info": {
   "codemirror_mode": {
    "name": "ipython",
    "version": 3
   },
   "file_extension": ".py",
   "mimetype": "text/x-python",
   "name": "python",
   "nbconvert_exporter": "python",
   "pygments_lexer": "ipython3",
   "version": "3.8.10"
  }
 },
 "nbformat": 4,
 "nbformat_minor": 5
}
